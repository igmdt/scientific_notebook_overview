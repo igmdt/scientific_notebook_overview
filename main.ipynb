{
 "cells": [
  {
   "cell_type": "code",
   "execution_count": 1,
   "metadata": {},
   "outputs": [
    {
     "data": {
      "application/javascript": [
       "require.config({\n",
       "    paths: {\n",
       "        datatables: 'https://cdn.datatables.net/1.10.19/js/jquery.dataTables.min',\n",
       "    }\n",
       "});\n",
       "\n",
       "$('head').append('<link rel=\"stylesheet\" type=\"text/css\" \\\n",
       "                href = \"https://cdn.datatables.net/1.10.19/css/jquery.dataTables.min.css\" > ');\n",
       "\n",
       "$('head').append('<style> table td { text-overflow: ellipsis; overflow: hidden; } </style>');\n",
       "\n",
       "$('head').append(`<script>\n",
       "function eval_functions(map_or_text) {\n",
       "    if (typeof map_or_text === \"string\") {\n",
       "        if (map_or_text.startsWith(\"function\")) {\n",
       "            try {\n",
       "                // Note: parenthesis are required around the whole expression for eval to return a value!\n",
       "                // See https://stackoverflow.com/a/7399078/911298.\n",
       "                //\n",
       "                // eval(\"local_fun = \" + map_or_text) would fail because local_fun is not declared\n",
       "                // (using var, let or const would work, but it would only be declared in the local scope\n",
       "                // and therefore the value could not be retrieved).\n",
       "                const func = eval(\"(\" + map_or_text + \")\");\n",
       "                if (typeof func !== \"function\") {\n",
       "                    // Note: backquotes are super convenient!\n",
       "                    // https://developer.mozilla.org/en-US/docs/Web/JavaScript/Reference/Template_literals\n",
       "                    console.error(\"Evaluated expression \" + map_or_text + \" is not a function (type is \" + typeof func + \")\");\n",
       "                    return map_or_text;\n",
       "                }\n",
       "                // Return the function\n",
       "                return func;\n",
       "            } catch (e) {\n",
       "                // Make sure to print the error with a second argument to console.error().\n",
       "                console.error(\"itables was not able to parse \" + map_or_text, e);\n",
       "            }\n",
       "        }\n",
       "    } else if (typeof map_or_text === \"object\") {\n",
       "        if (map_or_text instanceof Array) {\n",
       "            // Note: \"var\" is now superseded by \"let\" and \"const\".\n",
       "            // https://medium.com/javascript-scene/javascript-es6-var-let-or-const-ba58b8dcde75\n",
       "            const result = [];\n",
       "            // Note: \"for of\" is the best way to iterate through an iterable.\n",
       "            // https://developer.mozilla.org/en-US/docs/Web/JavaScript/Reference/Statements/for...of\n",
       "            for (const item of map_or_text) {\n",
       "                result.push(eval_functions(item));\n",
       "            }\n",
       "            return result;\n",
       "\n",
       "            // Alternatively, more functional approach in one line:\n",
       "            // return map_or_text.map(eval_functions);\n",
       "        } else {\n",
       "            const result = {};\n",
       "            // Object.keys() is safer than \"for in\" because otherwise you might have keys\n",
       "            // that aren't defined in the object itself.\n",
       "            //\n",
       "            // See https://stackoverflow.com/a/684692/911298.\n",
       "            for (const item of Object.keys(map_or_text)) {\n",
       "                result[item] = eval_functions(map_or_text[item]);\n",
       "            }\n",
       "            return result;\n",
       "        }\n",
       "    }\n",
       "\n",
       "    return map_or_text;\n",
       "}\n",
       "\n",
       "</` + 'script>');"
      ],
      "text/plain": [
       "<IPython.core.display.Javascript object>"
      ]
     },
     "metadata": {},
     "output_type": "display_data"
    }
   ],
   "source": [
    "import numpy as np\n",
    "import scipy.optimize\n",
    "import matplotlib.pyplot as plt\n",
    "import pandas as pd\n",
    "from itables import init_notebook_mode\n",
    "\n",
    "init_notebook_mode(all_interactive=True)"
   ]
  },
  {
   "cell_type": "markdown",
   "metadata": {},
   "source": [
    "### Datatable"
   ]
  },
  {
   "cell_type": "code",
   "execution_count": 2,
   "metadata": {
    "pycharm": {
     "name": "#%%\n"
    }
   },
   "outputs": [
    {
     "data": {
      "text/html": [
       "<div><table id=\"cfb9b502-f496-48f1-b0a4-1d45c3fc0e8d\" class=\"display\"><thead>\n",
       "    <tr style=\"text-align: right;\">\n",
       "      \n",
       "      <th>x</th>\n",
       "      <th>y</th>\n",
       "    </tr>\n",
       "  </thead></table>\n",
       "<script type=\"text/javascript\">\n",
       "require([\"datatables\"], function (datatables) {\n",
       "    $(document).ready(function () {\n",
       "        var dt_args = {\"columnDefs\": [{\"width\": \"70px\", \"targets\": \"_all\"}], \"data\": [[7.0, 304.08994], [8.0, 229.13878], [9.0, 173.71886], [10.0, 135.75499], [11.0, 111.096794], [12.0, 94.25109], [13.0, 81.55578], [14.0, 71.30187], [15.0, 62.146603], [16.0, 54.212032], [17.0, 49.20715], [18.0, 46.765743]]};\n",
       "        dt_args = eval_functions(dt_args);\n",
       "        table = $('#cfb9b502-f496-48f1-b0a4-1d45c3fc0e8d').DataTable(dt_args);\n",
       "    });\n",
       "})\n",
       "</script>\n",
       "</div>\n"
      ],
      "text/plain": [
       "<IPython.core.display.HTML object>"
      ]
     },
     "metadata": {},
     "output_type": "display_data"
    }
   ],
   "source": [
    "from itables import show\n",
    "\n",
    "df = pd.read_excel('./data/demo.xlsx')\n",
    "\n",
    "show(df)\n"
   ]
  },
  {
   "cell_type": "code",
   "execution_count": 3,
   "metadata": {
    "pycharm": {
     "name": "#%%\n"
    }
   },
   "outputs": [
    {
     "data": {
      "text/plain": [
       "Text(0, 0.5, 'y')"
      ]
     },
     "execution_count": 3,
     "metadata": {},
     "output_type": "execute_result"
    },
    {
     "data": {
      "image/png": "[encoded data removed]",
      "text/plain": [
       "<Figure size 432x288 with 1 Axes>"
      ]
     },
     "metadata": {
      "needs_background": "light"
     },
     "output_type": "display_data"
    }
   ],
   "source": [
    "plt.plot(df['x'], df['y'], '.')\n",
    "\n",
    "plt.title(\"Original Data\")\n",
    "plt.xlabel('x')\n",
    "plt.ylabel('y')\n"
   ]
  },
  {
   "cell_type": "markdown",
   "metadata": {},
   "source": [
    "### Adding calculated column\n",
    "\n",
    "#### Simple equation\n",
    "$ x_{2} = \\frac {(x^2 + 1)}{2} $"
   ]
  },
  {
   "cell_type": "code",
   "execution_count": 4,
   "metadata": {
    "pycharm": {
     "name": "#%%\n"
    }
   },
   "outputs": [
    {
     "data": {
      "text/plain": [
       "Text(0, 0.5, 'y')"
      ]
     },
     "execution_count": 4,
     "metadata": {},
     "output_type": "execute_result"
    },
    {
     "data": {
      "image/png": "[encoded data removed]",
      "text/plain": [
       "<Figure size 432x288 with 1 Axes>"
      ]
     },
     "metadata": {
      "needs_background": "light"
     },
     "output_type": "display_data"
    }
   ],
   "source": [
    "df['x2'] = (df['x']**2 + 1) / 2\n",
    "plt.plot(df['x2'], df['y'], '.')\n",
    "\n",
    "plt.title(\"New Data\")\n",
    "plt.xlabel('$x_2$')\n",
    "plt.ylabel('y')"
   ]
  },
  {
   "cell_type": "markdown",
   "metadata": {},
   "source": [
    "### Getting sum"
   ]
  },
  {
   "cell_type": "code",
   "execution_count": 5,
   "metadata": {
    "pycharm": {
     "name": "#%%\n"
    }
   },
   "outputs": [
    {
     "data": {
      "text/plain": [
       "150"
      ]
     },
     "execution_count": 5,
     "metadata": {},
     "output_type": "execute_result"
    }
   ],
   "source": [
    "sum_x = df['x'].sum()\n",
    "sum_x"
   ]
  },
  {
   "cell_type": "markdown",
   "metadata": {},
   "source": [
    "### Mean value"
   ]
  },
  {
   "cell_type": "code",
   "execution_count": 6,
   "metadata": {
    "pycharm": {
     "name": "#%%\n"
    }
   },
   "outputs": [
    {
     "data": {
      "text/plain": [
       "12.5"
      ]
     },
     "execution_count": 6,
     "metadata": {},
     "output_type": "execute_result"
    }
   ],
   "source": [
    "mean_x = df['x'].mean()\n",
    "mean_x\n"
   ]
  },
  {
   "cell_type": "markdown",
   "metadata": {},
   "source": [
    "### Filtering\n"
   ]
  },
  {
   "cell_type": "code",
   "execution_count": 7,
   "metadata": {
    "pycharm": {
     "name": "#%%\n"
    }
   },
   "outputs": [
    {
     "data": {
      "text/html": [
       "<div><table id=\"1976c6af-258b-478f-8d9c-45d10af46a8c\" class=\"display\"><thead>\n",
       "    <tr style=\"text-align: right;\">\n",
       "      <th></th>\n",
       "      <th>x</th>\n",
       "      <th>y</th>\n",
       "      <th>x2</th>\n",
       "    </tr>\n",
       "  </thead></table>\n",
       "<script type=\"text/javascript\">\n",
       "require([\"datatables\"], function (datatables) {\n",
       "    $(document).ready(function () {\n",
       "        var dt_args = {\"columnDefs\": [{\"width\": \"70px\", \"targets\": \"_all\"}], \"paging\": false, \"data\": [[6.0, 13.0, 81.55578, 85.0], [7.0, 14.0, 71.30187, 98.5], [8.0, 15.0, 62.146603, 113.0], [9.0, 16.0, 54.212032, 128.5], [10.0, 17.0, 49.20715, 145.0], [11.0, 18.0, 46.765743, 162.5]]};\n",
       "        dt_args = eval_functions(dt_args);\n",
       "        table = $('#1976c6af-258b-478f-8d9c-45d10af46a8c').DataTable(dt_args);\n",
       "    });\n",
       "})\n",
       "</script>\n",
       "</div>\n"
      ],
      "text/plain": [
       "     x          y     x2\n",
       "6   13  81.555780   85.0\n",
       "7   14  71.301870   98.5\n",
       "8   15  62.146603  113.0\n",
       "9   16  54.212032  128.5\n",
       "10  17  49.207150  145.0\n",
       "11  18  46.765743  162.5"
      ]
     },
     "execution_count": 7,
     "metadata": {},
     "output_type": "execute_result"
    }
   ],
   "source": [
    "x_above_mean = df[df['x'] > mean_x]\n",
    "x_above_mean\n"
   ]
  },
  {
   "cell_type": "markdown",
   "metadata": {},
   "source": [
    "### Curve fitting\n",
    "#### Least squares polynomial fit."
   ]
  },
  {
   "cell_type": "code",
   "execution_count": 8,
   "metadata": {
    "pycharm": {
     "name": "#%%\n"
    }
   },
   "outputs": [],
   "source": [
    "def get_r2(y, y2):\n",
    "    squaredDiffs = np.square(y - y2)\n",
    "    squaredDiffsFromMean = np.square(y - y.mean())\n",
    "    rSquared = 1 - np.sum(squaredDiffs) / np.sum(squaredDiffsFromMean)\n",
    "\n",
    "    return rSquared\n"
   ]
  },
  {
   "cell_type": "code",
   "execution_count": 9,
   "metadata": {
    "pycharm": {
     "name": "#%%\n"
    }
   },
   "outputs": [
    {
     "data": {
      "text/plain": [
       "<matplotlib.legend.Legend at 0x1ed332ddb38>"
      ]
     },
     "execution_count": 9,
     "metadata": {},
     "output_type": "execute_result"
    },
    {
     "data": {
      "image/png": "[encoded data removed]",
      "text/plain": [
       "<Figure size 432x288 with 1 Axes>"
      ]
     },
     "metadata": {
      "needs_background": "light"
     },
     "output_type": "display_data"
    }
   ],
   "source": [
    "import numpy.polynomial.polynomial as poly\n",
    "\n",
    "new_x = np.linspace(0, df['x'].max())\n",
    "\n",
    "y_fit_1_coefficients = poly.polyfit(df['x'], df['y'], 1)\n",
    "y_fit_1 = poly.polyval(new_x, y_fit_1_coefficients)\n",
    "\n",
    "y_fit_2_coefficients = poly.polyfit(df['x'], df['y'], 2)\n",
    "y_fit_2 = poly.polyval(new_x, y_fit_2_coefficients)\n",
    "\n",
    "y_fit_3_coefficients = poly.polyfit(df['x'], df['y'], 3)\n",
    "y_fit_3 = poly.polyval(new_x, y_fit_3_coefficients)\n",
    "\n",
    "plt.plot(df['x'], df['y'], 'o', label='Orig data')\n",
    "plt.plot(new_x, y_fit_1, '-', label='Polynomial of degree 1')\n",
    "plt.plot(new_x,  y_fit_2, '-', label='Polynomial of degree 2')\n",
    "plt.plot(new_x,  y_fit_3, '-', label='Polynomial  of degree 3 ')\n",
    "plt.legend()\n"
   ]
  },
  {
   "cell_type": "markdown",
   "metadata": {},
   "source": [
    "### Curve fitting\n",
    "#### Using function\n"
   ]
  },
  {
   "cell_type": "code",
   "execution_count": 10,
   "metadata": {
    "pycharm": {
     "name": "#%%\n"
    }
   },
   "outputs": [
    {
     "data": {
      "text/plain": [
       "Text(0, 0.5, 'y')"
      ]
     },
     "execution_count": 10,
     "metadata": {},
     "output_type": "execute_result"
    },
    {
     "data": {
      "image/png": "[encoded data removed]",
      "text/plain": [
       "<Figure size 432x288 with 1 Axes>"
      ]
     },
     "metadata": {
      "needs_background": "light"
     },
     "output_type": "display_data"
    }
   ],
   "source": [
    "def monoExp(x, m, t, b):\n",
    "    return m * np.exp(-t * x) + b\n",
    "\n",
    "p0 = (2000, .1, 50) # set initial values for the parameters\n",
    "params, cv = scipy.optimize.curve_fit(monoExp, df['x'], df['y'], p0)\n",
    "m, t, b = params\n",
    "\n",
    "fitted_values = monoExp(df['x'], m, t, b)\n",
    "\n",
    "plt.plot(df['x'], df['y'], 'o', label='Orig data')\n",
    "plt.plot(df['x'], fitted_values, '-', label='Fitted')\n",
    "plt.legend()\n",
    "plt.title(f\"$Y = {m} * e^{{-{t} * x}} + {b}$, $R_2 = \" + str(get_r2(df['y'], fitted_values)) +\"$\")\n",
    "plt.xlabel('x')\n",
    "plt.ylabel('y')\n"
   ]
  },
  {
   "cell_type": "markdown",
   "metadata": {},
   "source": [
    "### Correlation\n",
    "\n"
   ]
  },
  {
   "cell_type": "code",
   "execution_count": 11,
   "metadata": {
    "pycharm": {
     "name": "#%%\n"
    }
   },
   "outputs": [
    {
     "data": {
      "text/html": [
       "<style  type=\"text/css\" >\n",
       "#T_fc2e393e_dc52_11eb_9988_a86daac3aca9row0_col0,#T_fc2e393e_dc52_11eb_9988_a86daac3aca9row1_col1,#T_fc2e393e_dc52_11eb_9988_a86daac3aca9row2_col0,#T_fc2e393e_dc52_11eb_9988_a86daac3aca9row2_col2{\n",
       "            background-color:  #b40426;\n",
       "            color:  #f1f1f1;\n",
       "        }#T_fc2e393e_dc52_11eb_9988_a86daac3aca9row0_col1,#T_fc2e393e_dc52_11eb_9988_a86daac3aca9row1_col0,#T_fc2e393e_dc52_11eb_9988_a86daac3aca9row1_col2{\n",
       "            background-color:  #3b4cc0;\n",
       "            color:  #f1f1f1;\n",
       "        }#T_fc2e393e_dc52_11eb_9988_a86daac3aca9row0_col2{\n",
       "            background-color:  #b50927;\n",
       "            color:  #f1f1f1;\n",
       "        }#T_fc2e393e_dc52_11eb_9988_a86daac3aca9row2_col1{\n",
       "            background-color:  #4358cb;\n",
       "            color:  #f1f1f1;\n",
       "        }</style><table id=\"T_fc2e393e_dc52_11eb_9988_a86daac3aca9\" ><thead>    <tr>        <th class=\"blank level0\" ></th>        <th class=\"col_heading level0 col0\" >x</th>        <th class=\"col_heading level0 col1\" >y</th>        <th class=\"col_heading level0 col2\" >x2</th>    </tr></thead><tbody>\n",
       "                <tr>\n",
       "                        <th id=\"T_fc2e393e_dc52_11eb_9988_a86daac3aca9level0_row0\" class=\"row_heading level0 row0\" >x</th>\n",
       "                        <td id=\"T_fc2e393e_dc52_11eb_9988_a86daac3aca9row0_col0\" class=\"data row0 col0\" >1.000000</td>\n",
       "                        <td id=\"T_fc2e393e_dc52_11eb_9988_a86daac3aca9row0_col1\" class=\"data row0 col1\" >-0.904741</td>\n",
       "                        <td id=\"T_fc2e393e_dc52_11eb_9988_a86daac3aca9row0_col2\" class=\"data row0 col2\" >0.992616</td>\n",
       "            </tr>\n",
       "            <tr>\n",
       "                        <th id=\"T_fc2e393e_dc52_11eb_9988_a86daac3aca9level0_row1\" class=\"row_heading level0 row1\" >y</th>\n",
       "                        <td id=\"T_fc2e393e_dc52_11eb_9988_a86daac3aca9row1_col0\" class=\"data row1 col0\" >-0.904741</td>\n",
       "                        <td id=\"T_fc2e393e_dc52_11eb_9988_a86daac3aca9row1_col1\" class=\"data row1 col1\" >1.000000</td>\n",
       "                        <td id=\"T_fc2e393e_dc52_11eb_9988_a86daac3aca9row1_col2\" class=\"data row1 col2\" >-0.849737</td>\n",
       "            </tr>\n",
       "            <tr>\n",
       "                        <th id=\"T_fc2e393e_dc52_11eb_9988_a86daac3aca9level0_row2\" class=\"row_heading level0 row2\" >x2</th>\n",
       "                        <td id=\"T_fc2e393e_dc52_11eb_9988_a86daac3aca9row2_col0\" class=\"data row2 col0\" >0.992616</td>\n",
       "                        <td id=\"T_fc2e393e_dc52_11eb_9988_a86daac3aca9row2_col1\" class=\"data row2 col1\" >-0.849737</td>\n",
       "                        <td id=\"T_fc2e393e_dc52_11eb_9988_a86daac3aca9row2_col2\" class=\"data row2 col2\" >1.000000</td>\n",
       "            </tr>\n",
       "    </tbody></table>"
      ],
      "text/plain": [
       "<pandas.io.formats.style.Styler at 0x1ed354350f0>"
      ]
     },
     "execution_count": 11,
     "metadata": {},
     "output_type": "execute_result"
    }
   ],
   "source": [
    "corr = df.corr()\n",
    "corr.style.background_gradient(cmap='coolwarm')"
   ]
  },
  {
   "cell_type": "code",
   "execution_count": 12,
   "metadata": {
    "pycharm": {
     "name": "#%%\n"
    }
   },
   "outputs": [
    {
     "data": {
      "image/png": "[encoded data removed]",
      "text/plain": [
       "<Figure size 432x288 with 2 Axes>"
      ]
     },
     "metadata": {
      "needs_background": "light"
     },
     "output_type": "display_data"
    }
   ],
   "source": [
    "import seaborn as sns\n",
    "import matplotlib.pylab as plt\n",
    "\n",
    "ax = sns.heatmap(corr, linewidth=0.5, annot=True)\n",
    "plt.show()"
   ]
  }
 ],
 "metadata": {
  "kernelspec": {
   "display_name": "Python 3 (ipykernel)",
   "language": "python",
   "name": "python3"
  },
  "language_info": {
   "codemirror_mode": {
    "name": "ipython",
    "version": 3
   },
   "file_extension": ".py",
   "mimetype": "text/x-python",
   "name": "python",
   "nbconvert_exporter": "python",
   "pygments_lexer": "ipython3",
   "version": "3.7.0"
  }
 },
 "nbformat": 4,
 "nbformat_minor": 1
}